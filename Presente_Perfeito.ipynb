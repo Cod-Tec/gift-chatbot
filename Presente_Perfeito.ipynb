{
  "nbformat": 4,
  "nbformat_minor": 0,
  "metadata": {
    "colab": {
      "provenance": [],
      "authorship_tag": "ABX9TyMeKpDoZhK61yvKpI6T4fdx",
      "include_colab_link": true
    },
    "kernelspec": {
      "name": "python3",
      "display_name": "Python 3"
    },
    "language_info": {
      "name": "python"
    }
  },
  "cells": [
    {
      "cell_type": "markdown",
      "metadata": {
        "id": "view-in-github",
        "colab_type": "text"
      },
      "source": [
        "<a href=\"https://colab.research.google.com/github/Cod-Tec/gift-chatbot/blob/main/Presente_Perfeito.ipynb\" target=\"_parent\"><img src=\"https://colab.research.google.com/assets/colab-badge.svg\" alt=\"Open In Colab\"/></a>"
      ]
    },
    {
      "cell_type": "markdown",
      "source": [
        "Este chatbot é o seu assistente pessoal para encontrar o presente perfeito!"
      ],
      "metadata": {
        "id": "yHq7qndI9Whd"
      }
    },
    {
      "cell_type": "markdown",
      "source": [
        "\n",
        "\"Olá! Está procurando o presente perfeito? 🎉\n",
        "Para te ajudar a encontrar o presente ideal, preciso conhecer um pouco mais sobre a pessoa que você quer presentear. 🎁\n",
        "Por favor, me conte:\n",
        "Quanto mais detalhes você fornecer, melhores serão as sugestões de presentes! 😉\"\n"
      ],
      "metadata": {
        "id": "yhxbOI4J_VCa"
      }
    },
    {
      "cell_type": "code",
      "source": [
        "#Instalando o SDK do Google\n",
        "!pip install -q -U google-generativeai"
      ],
      "metadata": {
        "id": "fZPWf5jSFOON"
      },
      "execution_count": null,
      "outputs": []
    },
    {
      "cell_type": "code",
      "source": [
        "\n",
        "#Configurações iniciais\n",
        "import google.generativeai as genai\n",
        "\n",
        "from google.colab import userdata\n",
        "chave_api = userdata.get('SECRET_KEY')\n",
        "\n",
        "\n",
        "\n",
        "\n",
        "genai.configure(api_key=chave_api)\n",
        "\n",
        "# Função para obter informações sobre a pessoa a ser presenteada\n",
        "def obter_informacoes():\n",
        "    \"\"\"Obtém informações sobre a pessoa a ser presenteada.\"\"\"\n",
        "    idade = input(\"Idade: \")\n",
        "    sexo = input(\"Sexo: \")\n",
        "    interesses = input(\"Interesses e hobbies: \")\n",
        "    estilo = input(\"Estilo (clássico, moderno, esportivo, etc.): \")\n",
        "    personalidade = input(\"Personalidade (extrovertido, introvertido, criativo, etc.): \")\n",
        "    nao_gosta = input(\"O que ela NÃO gosta: \")\n",
        "    orcamento = input(\"Quanto você pretende gastar? \")\n",
        "    return idade, sexo, interesses, estilo, personalidade, nao_gosta, orcamento\n",
        "\n",
        "# Configurações do modelo\n",
        "generation_config = {\n",
        "    \"candidate_count\": 1,\n",
        "    \"temperature\": 0.5,\n",
        "}\n",
        "\n",
        "safety_settings={\n",
        "    'HATE': 'BLOCK_NONE',\n",
        "    'HARASSMENT': 'BLOCK_NONE',\n",
        "    'SEXUAL' : 'BLOCK_NONE',\n",
        "    'DANGEROUS' : 'BLOCK_NONE'\n",
        "}\n",
        "\n",
        "model = genai.GenerativeModel(model_name='gemini-1.0-pro',\n",
        "                              generation_config=generation_config,\n",
        "                              safety_settings=safety_settings,)\n",
        "\n",
        "chat = model.start_chat(history=[])\n",
        "\n",
        "# Loop principal\n",
        "while True:\n",
        "    print(\"Olá! Está procurando o presente perfeito?  🎉\")\n",
        "    idade, sexo, interesses, estilo, personalidade, nao_gosta, orcamento = obter_informacoes()\n",
        "\n",
        "    # Cria o prompt com as informações da pessoa\n",
        "    prompt = f\"Estou procurando um presente para uma pessoa de {idade} anos, {sexo}, que gosta de {interesses}, tem um estilo {estilo} e uma personalidade {personalidade}. Ela não gosta de {nao_gosta}. Meu orçamento é de {orcamento}.\"\n",
        "\n",
        "    response = chat.send_message(prompt)\n",
        "    print(\"Sugestão de presente:\", response.text, '\\n\\n')\n",
        "\n",
        "    continuar = input(\"Deseja buscar outro presente? (s/n): \")\n",
        "    if continuar.lower() != 's':\n",
        "        break\n",
        "\n",
        "print(\"Obrigado por usar o Chatbot de Presentes! 🎁\")"
      ],
      "metadata": {
        "colab": {
          "base_uri": "https://localhost:8080/",
          "height": 625
        },
        "id": "FjBnCYI6EgAS",
        "outputId": "f041036a-ad1e-4e21-d30f-922e9907323a"
      },
      "execution_count": null,
      "outputs": [
        {
          "output_type": "stream",
          "name": "stdout",
          "text": [
            "Olá! Está procurando o presente perfeito?  🎉\n",
            "Idade: 41\n",
            "Sexo: FEMININO\n",
            "Interesses e hobbies: NATUREZA\n",
            "Estilo (clássico, moderno, esportivo, etc.): ESPORTIVO\n",
            "Personalidade (extrovertido, introvertido, criativo, etc.): EXTROVERTIDO\n",
            "O que ela NÃO gosta: BARULHO\n",
            "Quanto você pretende gastar? 2000 REAIS\n",
            "Sugestão de presente: **Experiências ao Ar Livre:**\n",
            "\n",
            "* **Passeio de balão de ar quente:** Uma experiência inesquecível com vistas panorâmicas da natureza (R$ 1.200)\n",
            "* **Trilha guiada em um parque nacional:** Uma aventura tranquila e revigorante em meio à natureza (R$ 250)\n",
            "* **Passeio de caiaque em um lago tranquilo:** Uma atividade relaxante que permite apreciar a beleza da natureza (R$ 300)\n",
            "\n",
            "**Equipamentos Esportivos:**\n",
            "\n",
            "* **Bicicleta de montanha de alta qualidade:** Ideal para explorar trilhas e manter-se ativa (R$ 1.500)\n",
            "* **Tênis de corrida leves e confortáveis:** Para caminhadas ou corridas ao ar livre (R$ 350)\n",
            "* **Relógio GPS para atividades ao ar livre:** Acompanha o progresso e fornece dados de saúde (R$ 400)\n",
            "\n",
            "**Acessórios de Estilo Esportivo:**\n",
            "\n",
            "* **Mochila de hidratação:** Para manter-se hidratada durante atividades ao ar livre (R$ 200)\n",
            "* **Boné de beisebol com proteção solar:** Protege do sol e complementa seu estilo esportivo (R$ 100)\n",
            "* **Óculos de sol polarizados:** Protegem os olhos e adicionam um toque de estilo (R$ 250)\n",
            "\n",
            "**Relaxamento e Bem-Estar:**\n",
            "\n",
            "* **Fones de ouvido com cancelamento de ruído:** Para bloquear o barulho e criar um refúgio tranquilo (R$ 400)\n",
            "* **Difusor de óleos essenciais:** Cria um ambiente relaxante e aromático (R$ 150)\n",
            "* **Tapete de ioga:** Para exercícios de relaxamento e alongamento (R$ 200) \n",
            "\n",
            "\n",
            "Deseja buscar outro presente? (s/n): n\n",
            "Obrigado por usar o Chatbot de Presentes! 🎁\n"
          ]
        }
      ]
    }
  ]
}